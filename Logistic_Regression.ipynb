{
 "cells": [
  {
   "cell_type": "markdown",
   "metadata": {
    "id": "7FofrWX7Rn1r"
   },
   "source": [
    "## **Logistic Regression and Feature Engineering**"
   ]
  },
  {
   "cell_type": "markdown",
   "metadata": {
    "id": "rECF3w0hRn1v"
   },
   "source": [
    "### **Description of the Dataset**\n",
    "\n",
    "We will work with the Indian Liver Patient Dataset (ILPD) from the [UCI Machine Learning Repository](https://archive.ics.uci.edu/), performing feature engineering, data preprocessing, dimensionality reduction, and logistic regression to predict whether a patient has liver disease.\n",
    "\n",
    "* The ILPD comprises 583 patient records with 10 biochemical/demographic features and a target feature that are listed below:\n",
    "\n",
    "The dataset has the following columns:\n",
    "\n",
    "- `Age` (Integer): Patient's age.\n",
    "- `Gender` (Categorical: Male/Female).\n",
    "- `TB` (Total Bilirubin, Continuous).\n",
    "- `DB` (Direct Bilirubin, Continuous).\n",
    "- `Alkphos` (Alkaline Phosphotase, Integer).\n",
    "- `Sgpt` (Alamine Aminotransferase, Integer).\n",
    "- `Sgot` (Aspartate Aminotransferase, Integer).\n",
    "- `TP` (Total Proteins, Continuous).\n",
    "- `ALB` (Albumin, Continuous).\n",
    "- `A/G Ratio` (Albumin and Globulin Ratio, Continuous).\n",
    "- `Selector` (Binary: 1 = Liver patient, 2 = Non-liver patient)"
   ]
  },
  {
   "cell_type": "markdown",
   "metadata": {
    "id": "3XHDknmzRn1v"
   },
   "source": [
    "### **Load the Dataset**"
   ]
  },
  {
   "cell_type": "code",
   "execution_count": 61,
   "metadata": {
    "colab": {
     "base_uri": "https://localhost:8080/",
     "height": 206
    },
    "executionInfo": {
     "elapsed": 1058,
     "status": "ok",
     "timestamp": 1739757178101,
     "user": {
      "displayName": "Katherine Grace Mundey",
      "userId": "00114262073508900957"
     },
     "user_tz": 360
    },
    "id": "SrqFK9NTZEps",
    "outputId": "06189598-150d-4b28-a41c-92f4a7075dd0"
   },
   "outputs": [
    {
     "data": {
      "text/html": [
       "<div>\n",
       "<style scoped>\n",
       "    .dataframe tbody tr th:only-of-type {\n",
       "        vertical-align: middle;\n",
       "    }\n",
       "\n",
       "    .dataframe tbody tr th {\n",
       "        vertical-align: top;\n",
       "    }\n",
       "\n",
       "    .dataframe thead th {\n",
       "        text-align: right;\n",
       "    }\n",
       "</style>\n",
       "<table border=\"1\" class=\"dataframe\">\n",
       "  <thead>\n",
       "    <tr style=\"text-align: right;\">\n",
       "      <th></th>\n",
       "      <th>age</th>\n",
       "      <th>gender</th>\n",
       "      <th>TB</th>\n",
       "      <th>DB</th>\n",
       "      <th>alkphos</th>\n",
       "      <th>sgpt</th>\n",
       "      <th>sgot</th>\n",
       "      <th>TP</th>\n",
       "      <th>ALB</th>\n",
       "      <th>A/G ratio</th>\n",
       "      <th>target</th>\n",
       "    </tr>\n",
       "  </thead>\n",
       "  <tbody>\n",
       "    <tr>\n",
       "      <th>0</th>\n",
       "      <td>62</td>\n",
       "      <td>Male</td>\n",
       "      <td>10.9</td>\n",
       "      <td>5.5</td>\n",
       "      <td>699</td>\n",
       "      <td>64</td>\n",
       "      <td>100</td>\n",
       "      <td>7.5</td>\n",
       "      <td>3.2</td>\n",
       "      <td>0.74</td>\n",
       "      <td>1</td>\n",
       "    </tr>\n",
       "    <tr>\n",
       "      <th>1</th>\n",
       "      <td>62</td>\n",
       "      <td>Male</td>\n",
       "      <td>7.3</td>\n",
       "      <td>4.1</td>\n",
       "      <td>490</td>\n",
       "      <td>60</td>\n",
       "      <td>68</td>\n",
       "      <td>7.0</td>\n",
       "      <td>3.3</td>\n",
       "      <td>0.89</td>\n",
       "      <td>1</td>\n",
       "    </tr>\n",
       "    <tr>\n",
       "      <th>2</th>\n",
       "      <td>58</td>\n",
       "      <td>Male</td>\n",
       "      <td>1.0</td>\n",
       "      <td>0.4</td>\n",
       "      <td>182</td>\n",
       "      <td>14</td>\n",
       "      <td>20</td>\n",
       "      <td>6.8</td>\n",
       "      <td>3.4</td>\n",
       "      <td>1.00</td>\n",
       "      <td>1</td>\n",
       "    </tr>\n",
       "    <tr>\n",
       "      <th>3</th>\n",
       "      <td>72</td>\n",
       "      <td>Male</td>\n",
       "      <td>3.9</td>\n",
       "      <td>2.0</td>\n",
       "      <td>195</td>\n",
       "      <td>27</td>\n",
       "      <td>59</td>\n",
       "      <td>7.3</td>\n",
       "      <td>2.4</td>\n",
       "      <td>0.40</td>\n",
       "      <td>1</td>\n",
       "    </tr>\n",
       "    <tr>\n",
       "      <th>4</th>\n",
       "      <td>46</td>\n",
       "      <td>Male</td>\n",
       "      <td>1.8</td>\n",
       "      <td>0.7</td>\n",
       "      <td>208</td>\n",
       "      <td>19</td>\n",
       "      <td>14</td>\n",
       "      <td>7.6</td>\n",
       "      <td>4.4</td>\n",
       "      <td>1.30</td>\n",
       "      <td>1</td>\n",
       "    </tr>\n",
       "  </tbody>\n",
       "</table>\n",
       "</div>"
      ],
      "text/plain": [
       "   age gender    TB   DB  alkphos  sgpt  sgot   TP  ALB  A/G ratio  target\n",
       "0   62   Male  10.9  5.5      699    64   100  7.5  3.2       0.74       1\n",
       "1   62   Male   7.3  4.1      490    60    68  7.0  3.3       0.89       1\n",
       "2   58   Male   1.0  0.4      182    14    20  6.8  3.4       1.00       1\n",
       "3   72   Male   3.9  2.0      195    27    59  7.3  2.4       0.40       1\n",
       "4   46   Male   1.8  0.7      208    19    14  7.6  4.4       1.30       1"
      ]
     },
     "execution_count": 61,
     "metadata": {},
     "output_type": "execute_result"
    }
   ],
   "source": [
    "import pandas as pd\n",
    "\n",
    "# Download data\n",
    "df = pd.read_csv('files/ILPD.csv', index_col=False)\n",
    "\n",
    "# Define column names and cerate a dataframe\n",
    "cols = ['age', 'gender', 'TB', 'DB', 'alkphos', 'sgpt', 'sgot', 'TP', 'ALB', 'A/G ratio', 'target']\n",
    "df.columns = cols\n",
    "\n",
    "# Convert 'Target' to binary classification (1 = Liver Patient, 0 = Non-Liver Patient)\n",
    "df.loc[df['target'] == 2, 'target'] = 0\n",
    "\n",
    "# display the first few row to observe the data\n",
    "df.head()"
   ]
  },
  {
   "cell_type": "markdown",
   "metadata": {
    "id": "VTp2JazQRn1x"
   },
   "source": [
    "### **Clean and transform the data**"
   ]
  },
  {
   "cell_type": "markdown",
   "metadata": {},
   "source": [
    "Impute missing data"
   ]
  },
  {
   "cell_type": "code",
   "execution_count": 62,
   "metadata": {
    "id": "wILfx-JHcv13"
   },
   "outputs": [],
   "source": [
    "import numpy as np\n",
    "from sklearn.impute import SimpleImputer\n",
    "\n",
    "# Create new dataframe\n",
    "df_imputed = df.copy()\n",
    "\n",
    "# Select numeric columns\n",
    "num_cols = df_imputed.select_dtypes(include=[np.number]).columns\n",
    "\n",
    "# Impute null numeric values (if any) with median\n",
    "if df_imputed[num_cols].isnull().values.any():\n",
    "  imputer = SimpleImputer(strategy='median')           # Initialize imputer (median)\n",
    "  df_imputed[num_cols] = imputer.fit_transform(df_imputed[num_cols])   # Fill missing values\n",
    "  assert not df_imputed[num_cols].isnull().values.any(), 'Null numeric values found'  # Raise error if still missing values\n",
    "\n",
    "# Select categorical columns\n",
    "cat_cols = df_imputed.select_dtypes(exclude=[np.number]).columns\n",
    "\n",
    "# Impute null categorical values (if any) with mode\n",
    "if df_imputed[cat_cols].isnull().values.any:\n",
    "  imputer = SimpleImputer(strategy='most_frequent')    # Initialize imputer (mode)\n",
    "  df_imputed[cat_cols] = imputer.fit_transform(df_imputed[cat_cols])   # Fill missing values\n",
    "  assert not df_imputed[cat_cols].isnull().values.any(), 'Null categorical values found' # Raise error if still missing values"
   ]
  },
  {
   "cell_type": "markdown",
   "metadata": {
    "id": "QJhpak0lRn1y"
   },
   "source": [
    "One-hot Encoding: convert \"Gender\" into a binary feature (0 = Female, 1 = Male)"
   ]
  },
  {
   "cell_type": "code",
   "execution_count": 63,
   "metadata": {
    "colab": {
     "base_uri": "https://localhost:8080/",
     "height": 363
    },
    "executionInfo": {
     "elapsed": 124,
     "status": "ok",
     "timestamp": 1739757184820,
     "user": {
      "displayName": "Katherine Grace Mundey",
      "userId": "00114262073508900957"
     },
     "user_tz": 360
    },
    "id": "JKqxUcSQRn1z",
    "outputId": "90711fec-87db-4c89-af33-624321de7504"
   },
   "outputs": [
    {
     "data": {
      "text/html": [
       "<div>\n",
       "<style scoped>\n",
       "    .dataframe tbody tr th:only-of-type {\n",
       "        vertical-align: middle;\n",
       "    }\n",
       "\n",
       "    .dataframe tbody tr th {\n",
       "        vertical-align: top;\n",
       "    }\n",
       "\n",
       "    .dataframe thead th {\n",
       "        text-align: right;\n",
       "    }\n",
       "</style>\n",
       "<table border=\"1\" class=\"dataframe\">\n",
       "  <thead>\n",
       "    <tr style=\"text-align: right;\">\n",
       "      <th></th>\n",
       "      <th>age</th>\n",
       "      <th>gender</th>\n",
       "      <th>TB</th>\n",
       "      <th>DB</th>\n",
       "      <th>alkphos</th>\n",
       "      <th>sgpt</th>\n",
       "      <th>sgot</th>\n",
       "      <th>TP</th>\n",
       "      <th>ALB</th>\n",
       "      <th>A/G ratio</th>\n",
       "      <th>target</th>\n",
       "    </tr>\n",
       "  </thead>\n",
       "  <tbody>\n",
       "    <tr>\n",
       "      <th>0</th>\n",
       "      <td>62.0</td>\n",
       "      <td>1</td>\n",
       "      <td>10.9</td>\n",
       "      <td>5.5</td>\n",
       "      <td>699.0</td>\n",
       "      <td>64.0</td>\n",
       "      <td>100.0</td>\n",
       "      <td>7.5</td>\n",
       "      <td>3.2</td>\n",
       "      <td>0.74</td>\n",
       "      <td>1.0</td>\n",
       "    </tr>\n",
       "    <tr>\n",
       "      <th>1</th>\n",
       "      <td>62.0</td>\n",
       "      <td>1</td>\n",
       "      <td>7.3</td>\n",
       "      <td>4.1</td>\n",
       "      <td>490.0</td>\n",
       "      <td>60.0</td>\n",
       "      <td>68.0</td>\n",
       "      <td>7.0</td>\n",
       "      <td>3.3</td>\n",
       "      <td>0.89</td>\n",
       "      <td>1.0</td>\n",
       "    </tr>\n",
       "    <tr>\n",
       "      <th>2</th>\n",
       "      <td>58.0</td>\n",
       "      <td>1</td>\n",
       "      <td>1.0</td>\n",
       "      <td>0.4</td>\n",
       "      <td>182.0</td>\n",
       "      <td>14.0</td>\n",
       "      <td>20.0</td>\n",
       "      <td>6.8</td>\n",
       "      <td>3.4</td>\n",
       "      <td>1.00</td>\n",
       "      <td>1.0</td>\n",
       "    </tr>\n",
       "    <tr>\n",
       "      <th>3</th>\n",
       "      <td>72.0</td>\n",
       "      <td>1</td>\n",
       "      <td>3.9</td>\n",
       "      <td>2.0</td>\n",
       "      <td>195.0</td>\n",
       "      <td>27.0</td>\n",
       "      <td>59.0</td>\n",
       "      <td>7.3</td>\n",
       "      <td>2.4</td>\n",
       "      <td>0.40</td>\n",
       "      <td>1.0</td>\n",
       "    </tr>\n",
       "    <tr>\n",
       "      <th>4</th>\n",
       "      <td>46.0</td>\n",
       "      <td>1</td>\n",
       "      <td>1.8</td>\n",
       "      <td>0.7</td>\n",
       "      <td>208.0</td>\n",
       "      <td>19.0</td>\n",
       "      <td>14.0</td>\n",
       "      <td>7.6</td>\n",
       "      <td>4.4</td>\n",
       "      <td>1.30</td>\n",
       "      <td>1.0</td>\n",
       "    </tr>\n",
       "  </tbody>\n",
       "</table>\n",
       "</div>"
      ],
      "text/plain": [
       "    age  gender    TB   DB  alkphos  sgpt   sgot   TP  ALB  A/G ratio  target\n",
       "0  62.0       1  10.9  5.5    699.0  64.0  100.0  7.5  3.2       0.74     1.0\n",
       "1  62.0       1   7.3  4.1    490.0  60.0   68.0  7.0  3.3       0.89     1.0\n",
       "2  58.0       1   1.0  0.4    182.0  14.0   20.0  6.8  3.4       1.00     1.0\n",
       "3  72.0       1   3.9  2.0    195.0  27.0   59.0  7.3  2.4       0.40     1.0\n",
       "4  46.0       1   1.8  0.7    208.0  19.0   14.0  7.6  4.4       1.30     1.0"
      ]
     },
     "execution_count": 63,
     "metadata": {},
     "output_type": "execute_result"
    }
   ],
   "source": [
    "# Create new df\n",
    "df_encoded = df_imputed.copy()\n",
    "\n",
    "# Use vectorized operations, setting 'Male' == True\n",
    "df_encoded['gender'] = (df_encoded['gender'] == 'Male').astype(int)\n",
    "df_encoded.head()"
   ]
  },
  {
   "cell_type": "markdown",
   "metadata": {
    "id": "27I-GbBmRn10"
   },
   "source": [
    "### **Feature Extraction**\n",
    "\n",
    "Engineer new features:\n",
    "  - Bilirubin Ratio (DB / TB).\n",
    "  - ALT/AST Ratio (Sgpt / Sgot)."
   ]
  },
  {
   "cell_type": "code",
   "execution_count": 64,
   "metadata": {
    "colab": {
     "base_uri": "https://localhost:8080/",
     "height": 206
    },
    "executionInfo": {
     "elapsed": 275,
     "status": "ok",
     "timestamp": 1739757185084,
     "user": {
      "displayName": "Katherine Grace Mundey",
      "userId": "00114262073508900957"
     },
     "user_tz": 360
    },
    "id": "pzMuXEFZRn10",
    "outputId": "6a3d7189-3da7-4a06-ddd7-40a35c351357"
   },
   "outputs": [
    {
     "data": {
      "text/html": [
       "<div>\n",
       "<style scoped>\n",
       "    .dataframe tbody tr th:only-of-type {\n",
       "        vertical-align: middle;\n",
       "    }\n",
       "\n",
       "    .dataframe tbody tr th {\n",
       "        vertical-align: top;\n",
       "    }\n",
       "\n",
       "    .dataframe thead th {\n",
       "        text-align: right;\n",
       "    }\n",
       "</style>\n",
       "<table border=\"1\" class=\"dataframe\">\n",
       "  <thead>\n",
       "    <tr style=\"text-align: right;\">\n",
       "      <th></th>\n",
       "      <th>age</th>\n",
       "      <th>gender</th>\n",
       "      <th>TB</th>\n",
       "      <th>DB</th>\n",
       "      <th>alkphos</th>\n",
       "      <th>sgpt</th>\n",
       "      <th>sgot</th>\n",
       "      <th>TP</th>\n",
       "      <th>ALB</th>\n",
       "      <th>A/G ratio</th>\n",
       "      <th>target</th>\n",
       "      <th>bilirubin ratio</th>\n",
       "      <th>ALT/AST ratio</th>\n",
       "    </tr>\n",
       "  </thead>\n",
       "  <tbody>\n",
       "    <tr>\n",
       "      <th>0</th>\n",
       "      <td>62.0</td>\n",
       "      <td>1</td>\n",
       "      <td>10.9</td>\n",
       "      <td>5.5</td>\n",
       "      <td>699.0</td>\n",
       "      <td>64.0</td>\n",
       "      <td>100.0</td>\n",
       "      <td>7.5</td>\n",
       "      <td>3.2</td>\n",
       "      <td>0.74</td>\n",
       "      <td>1.0</td>\n",
       "      <td>0.504587</td>\n",
       "      <td>0.640000</td>\n",
       "    </tr>\n",
       "    <tr>\n",
       "      <th>1</th>\n",
       "      <td>62.0</td>\n",
       "      <td>1</td>\n",
       "      <td>7.3</td>\n",
       "      <td>4.1</td>\n",
       "      <td>490.0</td>\n",
       "      <td>60.0</td>\n",
       "      <td>68.0</td>\n",
       "      <td>7.0</td>\n",
       "      <td>3.3</td>\n",
       "      <td>0.89</td>\n",
       "      <td>1.0</td>\n",
       "      <td>0.561644</td>\n",
       "      <td>0.882353</td>\n",
       "    </tr>\n",
       "    <tr>\n",
       "      <th>2</th>\n",
       "      <td>58.0</td>\n",
       "      <td>1</td>\n",
       "      <td>1.0</td>\n",
       "      <td>0.4</td>\n",
       "      <td>182.0</td>\n",
       "      <td>14.0</td>\n",
       "      <td>20.0</td>\n",
       "      <td>6.8</td>\n",
       "      <td>3.4</td>\n",
       "      <td>1.00</td>\n",
       "      <td>1.0</td>\n",
       "      <td>0.400000</td>\n",
       "      <td>0.700000</td>\n",
       "    </tr>\n",
       "    <tr>\n",
       "      <th>3</th>\n",
       "      <td>72.0</td>\n",
       "      <td>1</td>\n",
       "      <td>3.9</td>\n",
       "      <td>2.0</td>\n",
       "      <td>195.0</td>\n",
       "      <td>27.0</td>\n",
       "      <td>59.0</td>\n",
       "      <td>7.3</td>\n",
       "      <td>2.4</td>\n",
       "      <td>0.40</td>\n",
       "      <td>1.0</td>\n",
       "      <td>0.512821</td>\n",
       "      <td>0.457627</td>\n",
       "    </tr>\n",
       "    <tr>\n",
       "      <th>4</th>\n",
       "      <td>46.0</td>\n",
       "      <td>1</td>\n",
       "      <td>1.8</td>\n",
       "      <td>0.7</td>\n",
       "      <td>208.0</td>\n",
       "      <td>19.0</td>\n",
       "      <td>14.0</td>\n",
       "      <td>7.6</td>\n",
       "      <td>4.4</td>\n",
       "      <td>1.30</td>\n",
       "      <td>1.0</td>\n",
       "      <td>0.388889</td>\n",
       "      <td>1.357143</td>\n",
       "    </tr>\n",
       "    <tr>\n",
       "      <th>5</th>\n",
       "      <td>26.0</td>\n",
       "      <td>0</td>\n",
       "      <td>0.9</td>\n",
       "      <td>0.2</td>\n",
       "      <td>154.0</td>\n",
       "      <td>16.0</td>\n",
       "      <td>12.0</td>\n",
       "      <td>7.0</td>\n",
       "      <td>3.5</td>\n",
       "      <td>1.00</td>\n",
       "      <td>1.0</td>\n",
       "      <td>0.222222</td>\n",
       "      <td>1.333333</td>\n",
       "    </tr>\n",
       "  </tbody>\n",
       "</table>\n",
       "</div>"
      ],
      "text/plain": [
       "    age  gender    TB   DB  alkphos  sgpt   sgot   TP  ALB  A/G ratio  target  \\\n",
       "0  62.0       1  10.9  5.5    699.0  64.0  100.0  7.5  3.2       0.74     1.0   \n",
       "1  62.0       1   7.3  4.1    490.0  60.0   68.0  7.0  3.3       0.89     1.0   \n",
       "2  58.0       1   1.0  0.4    182.0  14.0   20.0  6.8  3.4       1.00     1.0   \n",
       "3  72.0       1   3.9  2.0    195.0  27.0   59.0  7.3  2.4       0.40     1.0   \n",
       "4  46.0       1   1.8  0.7    208.0  19.0   14.0  7.6  4.4       1.30     1.0   \n",
       "5  26.0       0   0.9  0.2    154.0  16.0   12.0  7.0  3.5       1.00     1.0   \n",
       "\n",
       "   bilirubin ratio  ALT/AST ratio  \n",
       "0         0.504587       0.640000  \n",
       "1         0.561644       0.882353  \n",
       "2         0.400000       0.700000  \n",
       "3         0.512821       0.457627  \n",
       "4         0.388889       1.357143  \n",
       "5         0.222222       1.333333  "
      ]
     },
     "execution_count": 64,
     "metadata": {},
     "output_type": "execute_result"
    }
   ],
   "source": [
    "# Create new engineered features\n",
    "df_encoded['bilirubin ratio'] = df_encoded['DB'] / df_encoded['TB']\n",
    "df_encoded['ALT/AST ratio'] = df_encoded['sgpt'] / df_encoded['sgot']\n",
    "df_encoded.head(6)"
   ]
  },
  {
   "cell_type": "markdown",
   "metadata": {
    "id": "RPnDFfsZRn1z"
   },
   "source": [
    "### **Standardization**\n",
    "\n",
    "Scale all numerical features to have mean = 0 and standard deviation = 1.\n"
   ]
  },
  {
   "cell_type": "code",
   "execution_count": 65,
   "metadata": {
    "colab": {
     "base_uri": "https://localhost:8080/",
     "height": 206
    },
    "executionInfo": {
     "elapsed": 169,
     "status": "ok",
     "timestamp": 1739757185241,
     "user": {
      "displayName": "Katherine Grace Mundey",
      "userId": "00114262073508900957"
     },
     "user_tz": 360
    },
    "id": "6m5vP0kxRn10",
    "outputId": "f261eec3-f305-4688-d87e-4a1b2baa3b90"
   },
   "outputs": [
    {
     "data": {
      "text/html": [
       "<div>\n",
       "<style scoped>\n",
       "    .dataframe tbody tr th:only-of-type {\n",
       "        vertical-align: middle;\n",
       "    }\n",
       "\n",
       "    .dataframe tbody tr th {\n",
       "        vertical-align: top;\n",
       "    }\n",
       "\n",
       "    .dataframe thead th {\n",
       "        text-align: right;\n",
       "    }\n",
       "</style>\n",
       "<table border=\"1\" class=\"dataframe\">\n",
       "  <thead>\n",
       "    <tr style=\"text-align: right;\">\n",
       "      <th></th>\n",
       "      <th>age</th>\n",
       "      <th>gender</th>\n",
       "      <th>TB</th>\n",
       "      <th>DB</th>\n",
       "      <th>alkphos</th>\n",
       "      <th>sgpt</th>\n",
       "      <th>sgot</th>\n",
       "      <th>TP</th>\n",
       "      <th>ALB</th>\n",
       "      <th>A/G ratio</th>\n",
       "      <th>target</th>\n",
       "      <th>bilirubin ratio</th>\n",
       "      <th>ALT/AST ratio</th>\n",
       "    </tr>\n",
       "  </thead>\n",
       "  <tbody>\n",
       "    <tr>\n",
       "      <th>0</th>\n",
       "      <td>1.069313</td>\n",
       "      <td>1</td>\n",
       "      <td>1.223586</td>\n",
       "      <td>1.428648</td>\n",
       "      <td>1.680715</td>\n",
       "      <td>-0.092140</td>\n",
       "      <td>-0.034853</td>\n",
       "      <td>0.937332</td>\n",
       "      <td>0.073438</td>\n",
       "      <td>-0.650251</td>\n",
       "      <td>1.0</td>\n",
       "      <td>0.463941</td>\n",
       "      <td>-0.472172</td>\n",
       "    </tr>\n",
       "    <tr>\n",
       "      <th>1</th>\n",
       "      <td>1.069313</td>\n",
       "      <td>1</td>\n",
       "      <td>0.643743</td>\n",
       "      <td>0.930056</td>\n",
       "      <td>0.820279</td>\n",
       "      <td>-0.114045</td>\n",
       "      <td>-0.145620</td>\n",
       "      <td>0.476661</td>\n",
       "      <td>0.199146</td>\n",
       "      <td>-0.179274</td>\n",
       "      <td>1.0</td>\n",
       "      <td>0.656711</td>\n",
       "      <td>-0.093879</td>\n",
       "    </tr>\n",
       "    <tr>\n",
       "      <th>2</th>\n",
       "      <td>0.821911</td>\n",
       "      <td>1</td>\n",
       "      <td>-0.370981</td>\n",
       "      <td>-0.387651</td>\n",
       "      <td>-0.447733</td>\n",
       "      <td>-0.365961</td>\n",
       "      <td>-0.311772</td>\n",
       "      <td>0.292392</td>\n",
       "      <td>0.324855</td>\n",
       "      <td>0.166110</td>\n",
       "      <td>1.0</td>\n",
       "      <td>0.110585</td>\n",
       "      <td>-0.378517</td>\n",
       "    </tr>\n",
       "    <tr>\n",
       "      <th>3</th>\n",
       "      <td>1.687818</td>\n",
       "      <td>1</td>\n",
       "      <td>0.096115</td>\n",
       "      <td>0.182168</td>\n",
       "      <td>-0.394213</td>\n",
       "      <td>-0.294768</td>\n",
       "      <td>-0.176774</td>\n",
       "      <td>0.753063</td>\n",
       "      <td>-0.932229</td>\n",
       "      <td>-1.717800</td>\n",
       "      <td>1.0</td>\n",
       "      <td>0.491758</td>\n",
       "      <td>-0.756841</td>\n",
       "    </tr>\n",
       "    <tr>\n",
       "      <th>4</th>\n",
       "      <td>0.079704</td>\n",
       "      <td>1</td>\n",
       "      <td>-0.242127</td>\n",
       "      <td>-0.280810</td>\n",
       "      <td>-0.340693</td>\n",
       "      <td>-0.338579</td>\n",
       "      <td>-0.332540</td>\n",
       "      <td>1.029466</td>\n",
       "      <td>1.581939</td>\n",
       "      <td>1.108065</td>\n",
       "      <td>1.0</td>\n",
       "      <td>0.073045</td>\n",
       "      <td>0.647230</td>\n",
       "    </tr>\n",
       "    <tr>\n",
       "      <th>5</th>\n",
       "      <td>-1.157306</td>\n",
       "      <td>0</td>\n",
       "      <td>-0.387087</td>\n",
       "      <td>-0.458878</td>\n",
       "      <td>-0.563007</td>\n",
       "      <td>-0.355008</td>\n",
       "      <td>-0.339463</td>\n",
       "      <td>0.476661</td>\n",
       "      <td>0.450563</td>\n",
       "      <td>0.166110</td>\n",
       "      <td>1.0</td>\n",
       "      <td>-0.490052</td>\n",
       "      <td>0.610065</td>\n",
       "    </tr>\n",
       "  </tbody>\n",
       "</table>\n",
       "</div>"
      ],
      "text/plain": [
       "        age  gender        TB        DB   alkphos      sgpt      sgot  \\\n",
       "0  1.069313       1  1.223586  1.428648  1.680715 -0.092140 -0.034853   \n",
       "1  1.069313       1  0.643743  0.930056  0.820279 -0.114045 -0.145620   \n",
       "2  0.821911       1 -0.370981 -0.387651 -0.447733 -0.365961 -0.311772   \n",
       "3  1.687818       1  0.096115  0.182168 -0.394213 -0.294768 -0.176774   \n",
       "4  0.079704       1 -0.242127 -0.280810 -0.340693 -0.338579 -0.332540   \n",
       "5 -1.157306       0 -0.387087 -0.458878 -0.563007 -0.355008 -0.339463   \n",
       "\n",
       "         TP       ALB  A/G ratio  target  bilirubin ratio  ALT/AST ratio  \n",
       "0  0.937332  0.073438  -0.650251     1.0         0.463941      -0.472172  \n",
       "1  0.476661  0.199146  -0.179274     1.0         0.656711      -0.093879  \n",
       "2  0.292392  0.324855   0.166110     1.0         0.110585      -0.378517  \n",
       "3  0.753063 -0.932229  -1.717800     1.0         0.491758      -0.756841  \n",
       "4  1.029466  1.581939   1.108065     1.0         0.073045       0.647230  \n",
       "5  0.476661  0.450563   0.166110     1.0        -0.490052       0.610065  "
      ]
     },
     "execution_count": 65,
     "metadata": {},
     "output_type": "execute_result"
    }
   ],
   "source": [
    "from sklearn.preprocessing import StandardScaler\n",
    "\n",
    "# Create new df\n",
    "df_standard = df_encoded.copy()\n",
    "\n",
    "# Select numerical columns (excluding categorical and target variable)\n",
    "scale_cols = ['age', 'TB', 'DB', 'alkphos', 'sgpt', 'sgot', 'TP', 'ALB', 'A/G ratio', 'bilirubin ratio', 'ALT/AST ratio']\n",
    "\n",
    "# Initialize and fit standard scaler\n",
    "scaler = StandardScaler()\n",
    "df_standard[scale_cols] = scaler.fit_transform(df_standard[scale_cols])\n",
    "\n",
    "# Display first few rows after scaling\n",
    "df_standard.head(6)"
   ]
  },
  {
   "cell_type": "markdown",
   "metadata": {},
   "source": [
    "### **Remove Highly Correlated Features**"
   ]
  },
  {
   "cell_type": "code",
   "execution_count": 67,
   "metadata": {},
   "outputs": [
    {
     "data": {
      "image/png": "[encoded data removed]",
      "text/plain": [
       "<Figure size 1200x1000 with 2 Axes>"
      ]
     },
     "metadata": {},
     "output_type": "display_data"
    }
   ],
   "source": [
    "import matplotlib.pyplot as plt\n",
    "import seaborn as sns\n",
    "\n",
    "# Select only the numeric feature columns\n",
    "features_df = df_standard[scale_cols]\n",
    "\n",
    "# Correlation Matrix to determine highly correlated features\n",
    "plt.figure(figsize=(12, 10))\n",
    "correlation_matrix = features_df.corr()\n",
    "sns.heatmap(correlation_matrix, annot=True, cmap='coolwarm', center=0)\n",
    "plt.title('Feature Correlation Matrix')\n",
    "plt.tight_layout()\n",
    "plt.show()"
   ]
  },
  {
   "cell_type": "code",
   "execution_count": 68,
   "metadata": {},
   "outputs": [
    {
     "data": {
      "text/html": [
       "<div>\n",
       "<style scoped>\n",
       "    .dataframe tbody tr th:only-of-type {\n",
       "        vertical-align: middle;\n",
       "    }\n",
       "\n",
       "    .dataframe tbody tr th {\n",
       "        vertical-align: top;\n",
       "    }\n",
       "\n",
       "    .dataframe thead th {\n",
       "        text-align: right;\n",
       "    }\n",
       "</style>\n",
       "<table border=\"1\" class=\"dataframe\">\n",
       "  <thead>\n",
       "    <tr style=\"text-align: right;\">\n",
       "      <th></th>\n",
       "      <th>age</th>\n",
       "      <th>gender</th>\n",
       "      <th>TB</th>\n",
       "      <th>alkphos</th>\n",
       "      <th>sgpt</th>\n",
       "      <th>TP</th>\n",
       "      <th>target</th>\n",
       "      <th>bilirubin ratio</th>\n",
       "      <th>ALT/AST ratio</th>\n",
       "    </tr>\n",
       "  </thead>\n",
       "  <tbody>\n",
       "    <tr>\n",
       "      <th>0</th>\n",
       "      <td>1.069313</td>\n",
       "      <td>1</td>\n",
       "      <td>1.223586</td>\n",
       "      <td>1.680715</td>\n",
       "      <td>-0.092140</td>\n",
       "      <td>0.937332</td>\n",
       "      <td>1.0</td>\n",
       "      <td>0.463941</td>\n",
       "      <td>-0.472172</td>\n",
       "    </tr>\n",
       "    <tr>\n",
       "      <th>1</th>\n",
       "      <td>1.069313</td>\n",
       "      <td>1</td>\n",
       "      <td>0.643743</td>\n",
       "      <td>0.820279</td>\n",
       "      <td>-0.114045</td>\n",
       "      <td>0.476661</td>\n",
       "      <td>1.0</td>\n",
       "      <td>0.656711</td>\n",
       "      <td>-0.093879</td>\n",
       "    </tr>\n",
       "    <tr>\n",
       "      <th>2</th>\n",
       "      <td>0.821911</td>\n",
       "      <td>1</td>\n",
       "      <td>-0.370981</td>\n",
       "      <td>-0.447733</td>\n",
       "      <td>-0.365961</td>\n",
       "      <td>0.292392</td>\n",
       "      <td>1.0</td>\n",
       "      <td>0.110585</td>\n",
       "      <td>-0.378517</td>\n",
       "    </tr>\n",
       "    <tr>\n",
       "      <th>3</th>\n",
       "      <td>1.687818</td>\n",
       "      <td>1</td>\n",
       "      <td>0.096115</td>\n",
       "      <td>-0.394213</td>\n",
       "      <td>-0.294768</td>\n",
       "      <td>0.753063</td>\n",
       "      <td>1.0</td>\n",
       "      <td>0.491758</td>\n",
       "      <td>-0.756841</td>\n",
       "    </tr>\n",
       "    <tr>\n",
       "      <th>4</th>\n",
       "      <td>0.079704</td>\n",
       "      <td>1</td>\n",
       "      <td>-0.242127</td>\n",
       "      <td>-0.340693</td>\n",
       "      <td>-0.338579</td>\n",
       "      <td>1.029466</td>\n",
       "      <td>1.0</td>\n",
       "      <td>0.073045</td>\n",
       "      <td>0.647230</td>\n",
       "    </tr>\n",
       "  </tbody>\n",
       "</table>\n",
       "</div>"
      ],
      "text/plain": [
       "        age  gender        TB   alkphos      sgpt        TP  target  \\\n",
       "0  1.069313       1  1.223586  1.680715 -0.092140  0.937332     1.0   \n",
       "1  1.069313       1  0.643743  0.820279 -0.114045  0.476661     1.0   \n",
       "2  0.821911       1 -0.370981 -0.447733 -0.365961  0.292392     1.0   \n",
       "3  1.687818       1  0.096115 -0.394213 -0.294768  0.753063     1.0   \n",
       "4  0.079704       1 -0.242127 -0.340693 -0.338579  1.029466     1.0   \n",
       "\n",
       "   bilirubin ratio  ALT/AST ratio  \n",
       "0         0.463941      -0.472172  \n",
       "1         0.656711      -0.093879  \n",
       "2         0.110585      -0.378517  \n",
       "3         0.491758      -0.756841  \n",
       "4         0.073045       0.647230  "
      ]
     },
     "execution_count": 68,
     "metadata": {},
     "output_type": "execute_result"
    }
   ],
   "source": [
    "# Drop the highly correlated features (drop one from each pair)\n",
    "cols_to_drop = ['DB', 'sgot', 'ALB', 'A/G ratio']\n",
    "df_dropped = df_standard.drop(columns=cols_to_drop)\n",
    "df_dropped.head()"
   ]
  },
  {
   "cell_type": "markdown",
   "metadata": {
    "id": "AOE9q27PRn11"
   },
   "source": [
    "### **Engineering Ordinal Features**\n",
    "\n",
    "Categorize age into ordinal groups labeled with numeric values. Uses dynamic bin ranges. \n",
    "* (1) Young: Age below 30\n",
    "* (2) Middle-Aged: Age between 30 and 50 (inclusive)\n",
    "* (3) Senior: Age above 50"
   ]
  },
  {
   "cell_type": "code",
   "execution_count": 69,
   "metadata": {
    "colab": {
     "base_uri": "https://localhost:8080/",
     "height": 363
    },
    "executionInfo": {
     "elapsed": 17,
     "status": "ok",
     "timestamp": 1739757185242,
     "user": {
      "displayName": "Katherine Grace Mundey",
      "userId": "00114262073508900957"
     },
     "user_tz": 360
    },
    "id": "mH6jp0IZduTi",
    "outputId": "64f26b18-e349-499d-cf8c-ed9c3e9bdb7b"
   },
   "outputs": [
    {
     "data": {
      "text/html": [
       "<div>\n",
       "<style scoped>\n",
       "    .dataframe tbody tr th:only-of-type {\n",
       "        vertical-align: middle;\n",
       "    }\n",
       "\n",
       "    .dataframe tbody tr th {\n",
       "        vertical-align: top;\n",
       "    }\n",
       "\n",
       "    .dataframe thead th {\n",
       "        text-align: right;\n",
       "    }\n",
       "</style>\n",
       "<table border=\"1\" class=\"dataframe\">\n",
       "  <thead>\n",
       "    <tr style=\"text-align: right;\">\n",
       "      <th></th>\n",
       "      <th>age</th>\n",
       "      <th>gender</th>\n",
       "      <th>TB</th>\n",
       "      <th>alkphos</th>\n",
       "      <th>sgpt</th>\n",
       "      <th>TP</th>\n",
       "      <th>target</th>\n",
       "      <th>bilirubin ratio</th>\n",
       "      <th>ALT/AST ratio</th>\n",
       "      <th>age_group</th>\n",
       "      <th>age_ordinal</th>\n",
       "    </tr>\n",
       "  </thead>\n",
       "  <tbody>\n",
       "    <tr>\n",
       "      <th>0</th>\n",
       "      <td>1.069313</td>\n",
       "      <td>1</td>\n",
       "      <td>1.223586</td>\n",
       "      <td>1.680715</td>\n",
       "      <td>-0.092140</td>\n",
       "      <td>0.937332</td>\n",
       "      <td>1.0</td>\n",
       "      <td>0.463941</td>\n",
       "      <td>-0.472172</td>\n",
       "      <td>NaN</td>\n",
       "      <td>NaN</td>\n",
       "    </tr>\n",
       "    <tr>\n",
       "      <th>1</th>\n",
       "      <td>1.069313</td>\n",
       "      <td>1</td>\n",
       "      <td>0.643743</td>\n",
       "      <td>0.820279</td>\n",
       "      <td>-0.114045</td>\n",
       "      <td>0.476661</td>\n",
       "      <td>1.0</td>\n",
       "      <td>0.656711</td>\n",
       "      <td>-0.093879</td>\n",
       "      <td>NaN</td>\n",
       "      <td>NaN</td>\n",
       "    </tr>\n",
       "    <tr>\n",
       "      <th>2</th>\n",
       "      <td>0.821911</td>\n",
       "      <td>1</td>\n",
       "      <td>-0.370981</td>\n",
       "      <td>-0.447733</td>\n",
       "      <td>-0.365961</td>\n",
       "      <td>0.292392</td>\n",
       "      <td>1.0</td>\n",
       "      <td>0.110585</td>\n",
       "      <td>-0.378517</td>\n",
       "      <td>NaN</td>\n",
       "      <td>NaN</td>\n",
       "    </tr>\n",
       "    <tr>\n",
       "      <th>3</th>\n",
       "      <td>1.687818</td>\n",
       "      <td>1</td>\n",
       "      <td>0.096115</td>\n",
       "      <td>-0.394213</td>\n",
       "      <td>-0.294768</td>\n",
       "      <td>0.753063</td>\n",
       "      <td>1.0</td>\n",
       "      <td>0.491758</td>\n",
       "      <td>-0.756841</td>\n",
       "      <td>NaN</td>\n",
       "      <td>NaN</td>\n",
       "    </tr>\n",
       "    <tr>\n",
       "      <th>4</th>\n",
       "      <td>0.079704</td>\n",
       "      <td>1</td>\n",
       "      <td>-0.242127</td>\n",
       "      <td>-0.340693</td>\n",
       "      <td>-0.338579</td>\n",
       "      <td>1.029466</td>\n",
       "      <td>1.0</td>\n",
       "      <td>0.073045</td>\n",
       "      <td>0.647230</td>\n",
       "      <td>NaN</td>\n",
       "      <td>NaN</td>\n",
       "    </tr>\n",
       "    <tr>\n",
       "      <th>5</th>\n",
       "      <td>-1.157306</td>\n",
       "      <td>0</td>\n",
       "      <td>-0.387087</td>\n",
       "      <td>-0.563007</td>\n",
       "      <td>-0.355008</td>\n",
       "      <td>0.476661</td>\n",
       "      <td>1.0</td>\n",
       "      <td>-0.490052</td>\n",
       "      <td>0.610065</td>\n",
       "      <td>NaN</td>\n",
       "      <td>NaN</td>\n",
       "    </tr>\n",
       "  </tbody>\n",
       "</table>\n",
       "</div>"
      ],
      "text/plain": [
       "        age  gender        TB   alkphos      sgpt        TP  target  \\\n",
       "0  1.069313       1  1.223586  1.680715 -0.092140  0.937332     1.0   \n",
       "1  1.069313       1  0.643743  0.820279 -0.114045  0.476661     1.0   \n",
       "2  0.821911       1 -0.370981 -0.447733 -0.365961  0.292392     1.0   \n",
       "3  1.687818       1  0.096115 -0.394213 -0.294768  0.753063     1.0   \n",
       "4  0.079704       1 -0.242127 -0.340693 -0.338579  1.029466     1.0   \n",
       "5 -1.157306       0 -0.387087 -0.563007 -0.355008  0.476661     1.0   \n",
       "\n",
       "   bilirubin ratio  ALT/AST ratio age_group age_ordinal  \n",
       "0         0.463941      -0.472172       NaN         NaN  \n",
       "1         0.656711      -0.093879       NaN         NaN  \n",
       "2         0.110585      -0.378517       NaN         NaN  \n",
       "3         0.491758      -0.756841       NaN         NaN  \n",
       "4         0.073045       0.647230       NaN         NaN  \n",
       "5        -0.490052       0.610065       NaN         NaN  "
      ]
     },
     "execution_count": 69,
     "metadata": {},
     "output_type": "execute_result"
    }
   ],
   "source": [
    "# Get min and max age values\n",
    "age_min = df['age'].min()\n",
    "age_max = df['age'].max()\n",
    "\n",
    "# Ensure distinct bin edges by forcing strictly increasing values\n",
    "age_bins = sorted(set([age_min, 30, 50, age_max]))  # Remove duplicates and sort\n",
    "age_labels = ['young', 'middle-aged', 'senior']\n",
    "\n",
    "# Ensure at least three unique bin edges\n",
    "if len(age_bins) < 3:\n",
    "    age_bins = [age_min, (age_min + age_max) / 2, age_max]  # Fallback bins\n",
    "    age_labels = ['young', 'senior']\n",
    "    print('Used fallback bins')\n",
    "\n",
    "# Create new df\n",
    "df_binned = df_dropped.copy()\n",
    "\n",
    "# Bin age groups using pd.cut()\n",
    "df_binned['age_group'] = pd.cut(df_binned['age'], age_bins, labels=age_labels, include_lowest=True)\n",
    "\n",
    "# Map age_group to age_ordinal\n",
    "age_map = {'young':1, 'middle-aged':2, 'senior':3}\n",
    "df_binned['age_ordinal'] = df_binned['age_group'].map(age_map)\n",
    "\n",
    "# Display first few rows\n",
    "df_binned.head(6)"
   ]
  },
  {
   "cell_type": "code",
   "execution_count": 70,
   "metadata": {
    "colab": {
     "base_uri": "https://localhost:8080/",
     "height": 209
    },
    "executionInfo": {
     "elapsed": 16,
     "status": "ok",
     "timestamp": 1739757185456,
     "user": {
      "displayName": "Katherine Grace Mundey",
      "userId": "00114262073508900957"
     },
     "user_tz": 360
    },
    "id": "j68V94-n9e71",
    "outputId": "5629e0a3-e14b-4901-ca4b-dd137f103b75"
   },
   "outputs": [
    {
     "data": {
      "text/plain": [
       "age_group\n",
       "young          0\n",
       "middle-aged    0\n",
       "senior         0\n",
       "Name: count, dtype: int64"
      ]
     },
     "execution_count": 70,
     "metadata": {},
     "output_type": "execute_result"
    }
   ],
   "source": [
    "# Check the distribution of age_group\n",
    "df_binned[\"age_group\"].value_counts()"
   ]
  },
  {
   "cell_type": "code",
   "execution_count": 71,
   "metadata": {
    "colab": {
     "base_uri": "https://localhost:8080/",
     "height": 209
    },
    "executionInfo": {
     "elapsed": 14,
     "status": "ok",
     "timestamp": 1739757185456,
     "user": {
      "displayName": "Katherine Grace Mundey",
      "userId": "00114262073508900957"
     },
     "user_tz": 360
    },
    "id": "RtFqyxt89-T2",
    "outputId": "95513164-a8aa-4ada-c10b-c4ca0dbaee90"
   },
   "outputs": [
    {
     "data": {
      "text/plain": [
       "age_ordinal\n",
       "1    0\n",
       "2    0\n",
       "3    0\n",
       "Name: count, dtype: int64"
      ]
     },
     "execution_count": 71,
     "metadata": {},
     "output_type": "execute_result"
    }
   ],
   "source": [
    "# Check the distribution of age_ordinal\n",
    "df_binned[\"age_ordinal\"].value_counts()"
   ]
  },
  {
   "cell_type": "markdown",
   "metadata": {
    "id": "RcDFR89WRn10"
   },
   "source": [
    "### **Dimensionality Reduction**\n",
    "\n",
    "Apply PCA and retain components that explain at least 95% of variance."
   ]
  },
  {
   "cell_type": "code",
   "execution_count": 72,
   "metadata": {
    "colab": {
     "base_uri": "https://localhost:8080/"
    },
    "executionInfo": {
     "elapsed": 95,
     "status": "ok",
     "timestamp": 1739757188280,
     "user": {
      "displayName": "Katherine Grace Mundey",
      "userId": "00114262073508900957"
     },
     "user_tz": 360
    },
    "id": "nQ9IzJZiRn10",
    "outputId": "e5cf0713-29e6-4326-dda3-f97d2726181a"
   },
   "outputs": [
    {
     "name": "stdout",
     "output_type": "stream",
     "text": [
      "Number of principal components retained: 7\n"
     ]
    }
   ],
   "source": [
    "from sklearn.decomposition import PCA\n",
    "\n",
    "# Create new df\n",
    "df_PCA = df_binned.copy()\n",
    "\n",
    "# Exclude non-numeric columns from PCA\n",
    "x_pca = df_PCA.drop(columns=['gender', 'target', 'age_group', 'age_ordinal'])\n",
    "\n",
    "# Initialize and fit pca\n",
    "pca = PCA(n_components=0.95) # retain 95% of variance\n",
    "x_PCA_transformed = pca.fit_transform(x_pca)\n",
    "\n",
    "# Output the number of principal components retained\n",
    "print(f'Number of principal components retained: {pca.n_components_}')"
   ]
  },
  {
   "cell_type": "markdown",
   "metadata": {
    "id": "76bqrlyFVBHr"
   },
   "source": [
    "## **Logistic Regression Model**\n",
    "\n",
    "Train a logistic regression model on the processed dataset and evaluate its performance with its accuracy score, confusion matrix and a classification report."
   ]
  },
  {
   "cell_type": "code",
   "execution_count": 78,
   "metadata": {
    "colab": {
     "base_uri": "https://localhost:8080/"
    },
    "executionInfo": {
     "elapsed": 101,
     "status": "ok",
     "timestamp": 1739761430311,
     "user": {
      "displayName": "Katherine Grace Mundey",
      "userId": "00114262073508900957"
     },
     "user_tz": 360
    },
    "id": "awfkBZULVHDt",
    "outputId": "e2ec6486-1f1a-46b3-a4e8-5bd9c333a69f"
   },
   "outputs": [
    {
     "name": "stdout",
     "output_type": "stream",
     "text": [
      "Accuracy: 0.678082191780822\n",
      "\n",
      "Confusion Matrix:\n",
      " [[ 5 41]\n",
      " [ 6 94]]\n",
      "\n",
      "Classification Report:\n",
      "               precision    recall  f1-score   support\n",
      "\n",
      "         0.0       0.45      0.11      0.18        46\n",
      "         1.0       0.70      0.94      0.80       100\n",
      "\n",
      "    accuracy                           0.68       146\n",
      "   macro avg       0.58      0.52      0.49       146\n",
      "weighted avg       0.62      0.68      0.60       146\n",
      "\n",
      "\n",
      "Features: Index(['age', 'TB', 'alkphos', 'sgpt', 'TP', 'bilirubin ratio',\n",
      "       'ALT/AST ratio'],\n",
      "      dtype='object')\n",
      "Feature Coefficient: [[ 1.84354151 -0.61279744  0.51373735 -0.47613542  0.40642399  0.73784582\n",
      "  -0.38390565]]\n"
     ]
    }
   ],
   "source": [
    "from sklearn.linear_model import LogisticRegression\n",
    "from sklearn.model_selection import train_test_split\n",
    "from sklearn.metrics import accuracy_score\n",
    "from sklearn.metrics import confusion_matrix\n",
    "from sklearn.metrics import classification_report\n",
    "\n",
    "# Train logistic regression on PCA-adjusted data\n",
    "\n",
    "# Define variables\n",
    "X = x_PCA_transformed\n",
    "y = df = df_PCA['target']\n",
    "\n",
    "# Split data\n",
    "X_train, X_test, y_train, y_test = train_test_split(X, y)\n",
    "\n",
    "# Initialize and fit model\n",
    "logreg_model = LogisticRegression()\n",
    "logreg_model.fit(X_train, y_train)\n",
    "\n",
    "# Predict target feature\n",
    "y_pred = logreg_model.predict(X_test)\n",
    "\n",
    "# Evaluate model\n",
    "print(\"Accuracy:\", accuracy_score(y_test, y_pred))\n",
    "print(\"\\nConfusion Matrix:\\n\", confusion_matrix(y_test, y_pred))\n",
    "print(\"\\nClassification Report:\\n\", classification_report(y_test, y_pred))\n",
    "print('\\nFeatures:', x_pca.columns)\n",
    "print('Feature Coefficient:', logreg_model.coef_)"
   ]
  },
  {
   "cell_type": "markdown",
   "metadata": {
    "id": "ZLvb_Be_jAyB"
   },
   "source": [
    "## **Visualization**\n",
    "* Plot the distribution of Total Bilirubin (TB) for liver and non-liver patients.\n"
   ]
  },
  {
   "cell_type": "code",
   "execution_count": null,
   "metadata": {
    "colab": {
     "base_uri": "https://localhost:8080/",
     "height": 564
    },
    "executionInfo": {
     "elapsed": 557,
     "status": "ok",
     "timestamp": 1739759631156,
     "user": {
      "displayName": "Katherine Grace Mundey",
      "userId": "00114262073508900957"
     },
     "user_tz": 360
    },
    "id": "9iYEVkOjjIuH",
    "outputId": "a141a25d-ca96-4302-fdc4-b1edbab45685"
   },
   "outputs": [
    {
     "data": {
      "image/png": "[encoded data removed]",
      "text/plain": [
       "<Figure size 800x600 with 1 Axes>"
      ]
     },
     "metadata": {},
     "output_type": "display_data"
    }
   ],
   "source": [
    "import matplotlib.pyplot as plt\n",
    "import seaborn as sns\n",
    "\n",
    "# Define variables\n",
    "liver = df_binned[df_binned['target'] == 1.0]['TB']\n",
    "nonliver = df_binned[df_binned['target'] == 0.0]['TB']\n",
    "\n",
    "# Plot histograms\n",
    "plt.figure(figsize=(8,6))\n",
    "plt.hist(liver, color='blue', alpha=0.7, label='Liver Patient');\n",
    "plt.hist(nonliver, color='red', alpha=0.7, label='Non-Liver Patient');\n",
    "\n",
    "# Annotations\n",
    "plt.title('Distribution of Total Bilirubin (TB) for Liver and Non-Liver Patients')\n",
    "plt.xlabel('TB')\n",
    "plt.ylabel('Number of Patients')\n",
    "plt.legend()\n",
    "plt.show()"
   ]
  },
  {
   "cell_type": "code",
   "execution_count": null,
   "metadata": {
    "colab": {
     "base_uri": "https://localhost:8080/",
     "height": 446
    },
    "executionInfo": {
     "elapsed": 854,
     "status": "ok",
     "timestamp": 1739766856769,
     "user": {
      "displayName": "Katherine Grace Mundey",
      "userId": "00114262073508900957"
     },
     "user_tz": 360
    },
    "id": "TXjfRE7LKre1",
    "outputId": "c894fb9f-c768-4f87-e30d-f91f1aec1687"
   },
   "outputs": [
    {
     "data": {
      "text/plain": [
       "Text(0.5, 0, 'TB')"
      ]
     },
     "execution_count": 14,
     "metadata": {},
     "output_type": "execute_result"
    },
    {
     "data": {
      "image/png": "[encoded data removed]",
      "text/plain": [
       "<Figure size 600x400 with 2 Axes>"
      ]
     },
     "metadata": {},
     "output_type": "display_data"
    }
   ],
   "source": [
    "# Two separate histograms\n",
    "plt.figure(figsize=(6,4))\n",
    "plt.suptitle('Distribution of Total Bilirubin (TB)')\n",
    "\n",
    "plt.subplot(1, 2, 1)\n",
    "plt.hist(liver, color='blue', alpha=0.7);\n",
    "plt.title('Liver Disease Patients')\n",
    "plt.xlabel('TB')\n",
    "plt.ylabel('Number of Patients')\n",
    "\n",
    "plt.subplot(1, 2, 2)\n",
    "plt.hist(nonliver, color='red', alpha=0.7);\n",
    "plt.title('Non-Liver Disease Patients ')\n",
    "plt.xlabel('TB')"
   ]
  },
  {
   "cell_type": "markdown",
   "metadata": {},
   "source": [
    "The distribution of Total Bilirubin appears to be proportionally similar for liver and non-liver disease patients. There are far more patients with TB closer to zero, and fewer patients with TB greater than zero. The majority of both liver and non-liver disease patients have TB around -0.50 to 0. However, many patients with liver disease also have TB greater than 0, something less common in non-liver disease patients. This pattern suggests that having a higher TB can be associated with liver disease. I would expect TB to be a moderately strong predictor because there is a clear divide between liver and non-liver disease patients when it comes to higher TB scores (greater than 0), but only to a certain extent because many liver disease patients have TB close to 0, similar to non-liver disease patients. I should note that due to the class imbalance, there are far more data points for the liver disease patients."
   ]
  },
  {
   "cell_type": "markdown",
   "metadata": {},
   "source": [
    "### **Final Thoughts**"
   ]
  },
  {
   "cell_type": "markdown",
   "metadata": {
    "id": "ITiyWr1FVyv5"
   },
   "source": [
    "The model returned 10 true positives, 23 false positives, 104 true negatives, and 9 false negatives. \n",
    "\n",
    "In the context of medical diagnosing, we want to optimize the model by minimizing the number of false negatives -- it is more important that the model accurately identifies all cases of liver disease, as we don't want patients who have liver disease to be told they do *not* have liver disease. A result of 9 false negatives compared to 10 true positives is not ideal at all -- the model missed about half of all positive liver disease cases. There are many false positivies, and while not ideal, there are fewer immediate risks to a patient's health when identified as  a false positive. \n",
    "\n",
    "The classification report reveals that the model has a severe class imbalance, with  0.55 precision, 0.29 recall, and 0.38 f1-score for the non-liver disease patients (class 0.0). This means that the model is highly biased towards the liver class (1.0) and it poorly classifies non-liver patients when it is presented with the data. The model's poor performance can likely be attributed to the class imbalance; in future model development, balancing classes will be key. Although the overall accuracy of the model is 0.73, this metric disguises the model's bias -- the high number of false negatives and the class imbalance for non-liver patients.\n",
    "\n",
    "The three features that seem to have the strongest impact on the predictions are Bilirubin Ratio (0.74), Total Bilirubin (TB = -0.61), and Alanine  Aminotransferase (sgpt = 0.51). These findings are consistent with current medical knowledge about liver disease, as all three are some of the most significant known predictors of liver disease.\n",
    "\n",
    "Sources:\n",
    "* https://link.springer.com/article/10.1007/s42044-023-00138-9\n",
    "* https://pmc.ncbi.nlm.nih.gov/articles/PMC8283287/"
   ]
  }
 ],
 "metadata": {
  "colab": {
   "provenance": []
  },
  "kernelspec": {
   "display_name": "base",
   "language": "python",
   "name": "python3"
  },
  "language_info": {
   "codemirror_mode": {
    "name": "ipython",
    "version": 3
   },
   "file_extension": ".py",
   "mimetype": "text/x-python",
   "name": "python",
   "nbconvert_exporter": "python",
   "pygments_lexer": "ipython3",
   "version": "3.12.4"
  }
 },
 "nbformat": 4,
 "nbformat_minor": 0
}
